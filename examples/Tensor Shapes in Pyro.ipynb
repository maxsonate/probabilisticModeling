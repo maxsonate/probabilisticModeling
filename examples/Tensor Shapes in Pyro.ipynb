{
 "cells": [
  {
   "cell_type": "code",
   "execution_count": 64,
   "metadata": {},
   "outputs": [],
   "source": [
    "import os\n",
    "import torch\n",
    "import pyro\n",
    "from torch.distributions import constraints\n",
    "from pyro.distributions import Bernoulli, Categorical, MultivariateNormal, Normal\n",
    "from pyro.infer import Trace_ELBO, TraceEnum_ELBO, config_enumerate\n",
    "import pyro.poutine as poutine\n",
    "from pyro.optim import Adam\n",
    "\n",
    "smoke_test = ('CI' in os.environ)\n",
    "pyro.enable_validation(True)    # <---- This is always a good idea!\n",
    "\n",
    "# We'll ue this helper to check our models are correct.\n",
    "def test_model(model, guide, loss):\n",
    "    pyro.clear_param_store()\n",
    "    return loss.loss(model, guide)"
   ]
  },
  {
   "cell_type": "code",
   "execution_count": 17,
   "metadata": {},
   "outputs": [
    {
     "name": "stdout",
     "output_type": "stream",
     "text": [
      "tensor(-0.6931) tensor(1.)\n"
     ]
    }
   ],
   "source": [
    "d = Bernoulli(0.5)\n",
    "assert d.batch_shape == ()\n",
    "assert d.event_shape == ()\n",
    "x = d.sample()\n",
    "assert x.shape == ()\n",
    "assert d.log_prob(x).shape == ()"
   ]
  },
  {
   "cell_type": "code",
   "execution_count": 23,
   "metadata": {},
   "outputs": [],
   "source": [
    "d = Bernoulli(0.5 * torch.ones(3,4))\n",
    "assert d.batch_shape == (3,4)\n",
    "assert d.event_shape == ()\n",
    "\n",
    "s = d.sample()\n",
    "assert s.shape == (3,4)\n",
    "assert d.log_prob(s).shape == (3,4)"
   ]
  },
  {
   "cell_type": "code",
   "execution_count": 25,
   "metadata": {},
   "outputs": [],
   "source": [
    "d = MultivariateNormal(torch.zeros(3), torch.eye(3, 3))\n",
    "assert d.batch_shape == ()\n",
    "assert d.event_shape == (3,)\n",
    "\n",
    "s = d.sample()\n",
    "assert s.shape == (3,)\n",
    "assert d.log_prob(s).shape == ()"
   ]
  },
  {
   "cell_type": "code",
   "execution_count": 43,
   "metadata": {},
   "outputs": [],
   "source": [
    "#Reshaping distributions:\n",
    "d = Bernoulli(0.5 * torch.ones(3,4)).independent(1)\n",
    "assert d.batch_shape == (3,)\n",
    "assert d.event_shape == (4,)\n",
    "\n",
    "s = d.sample()\n",
    "assert s.shape == (3,4)\n",
    "assert d.log_prob(s).shape == (3,)"
   ]
  },
  {
   "cell_type": "code",
   "execution_count": 76,
   "metadata": {},
   "outputs": [],
   "source": [
    "#It is always safe to assume dependence:\n",
    "d = Normal(0,1).expand_by([10]).independent(1)\n",
    "s = pyro.sample(\"x\", Normal(0, 1).expand_by([10]).independent(1))\n",
    "assert s.shape == (10,)\n",
    "assert d.log_prob(s).shape ==()"
   ]
  },
  {
   "cell_type": "code",
   "execution_count": 104,
   "metadata": {},
   "outputs": [
    {
     "name": "stdout",
     "output_type": "stream",
     "text": [
      "torch.Size([2, 3])\n"
     ]
    }
   ],
   "source": [
    "d = Normal(torch.zeros(2), 1).independent(1)\n",
    "a = pyro.sample('a', d)\n",
    "assert d.log_prob(a).shape == ()\n",
    "xy = pyro.sample(\"xy\", Normal(0, 1).expand_by([2, 3, 1]))\n",
    "\n",
    "x_axis = pyro.iarange(\"x_axis\", 1, dim=-1)\n",
    "with x_axis:\n",
    "    dist = Normal(0, 1).expand_by([2, 3, 1]).independent(1)\n",
    "    s = pyro.sample('s', dist)\n",
    "    print(dist.log_prob(s).shape)"
   ]
  },
  {
   "cell_type": "markdown",
   "metadata": {},
   "source": [
    "##Important note: independent should be after the distribution, not the sample."
   ]
  },
  {
   "cell_type": "code",
   "execution_count": 106,
   "metadata": {},
   "outputs": [
    {
     "data": {
      "text/plain": [
       "-0.0"
      ]
     },
     "execution_count": 106,
     "metadata": {},
     "output_type": "execute_result"
    }
   ],
   "source": [
    "def model1():\n",
    "    a = pyro.sample(\"a\", Normal(0, 1))\n",
    "    b = pyro.sample(\"b\", Normal(torch.zeros(2), 1).independent(1))\n",
    "    with pyro.iarange(\"c_iarange\", 2):\n",
    "        c = pyro.sample(\"c\", Normal(torch.zeros(2), 1))\n",
    "    with pyro.iarange(\"d_iarange\", 3):\n",
    "        d = pyro.sample(\"d\", Normal(torch.zeros(3,4,5), 1).independent(2))\n",
    "    assert a.shape == ()       # batch_shape == ()     event_shape == ()\n",
    "    assert b.shape == (2,)     # batch_shape == ()     event_shape == (2,)\n",
    "    assert c.shape == (2,)     # batch_shape == (2,)   event_sahpe == ()\n",
    "    assert d.shape == (3,4,5)  # batch_shape == (3,)   event_shape == (4,5)\n",
    "\n",
    "    x_axis = pyro.iarange(\"x_axis\", 3, dim=-2)\n",
    "    y_axis = pyro.iarange(\"y_axis\", 2, dim=-3)\n",
    "    with x_axis:\n",
    "        x = pyro.sample(\"x\", Normal(0, 1).expand_by([3, 1]))\n",
    "    with y_axis:\n",
    "        y = pyro.sample(\"y\", Normal(0, 1).expand_by([2, 1, 1]))\n",
    "    \n",
    "    with x_axis, y_axis:\n",
    "        xy = pyro.sample('xy', Normal(0, 1).expand([2,3,1]))\n",
    "        z = pyro.sample(\"z\", Normal(0, 1).expand_by([2, 3, 1, 5]).independent(1))\n",
    "    assert x.shape == (3, 1)        # batch_shape == (3,1)     event_shape == ()\n",
    "    assert y.shape == (2, 1, 1)     # batch_shape == (2,1,1)   event_shape == ()\n",
    "    assert xy.shape == (2, 3, 1)    # batch_shape == (2,3,1)   event_shape == ()\n",
    "    assert z.shape == (2, 3, 1, 5)  # batch_shape == (2,3,1)   event_shape == (5,)\n",
    "\n",
    "test_model(model1, model1, Trace_ELBO())"
   ]
  },
  {
   "cell_type": "code",
   "execution_count": 113,
   "metadata": {},
   "outputs": [
    {
     "data": {
      "text/plain": [
       "122071.890625"
      ]
     },
     "execution_count": 113,
     "metadata": {},
     "output_type": "execute_result"
    }
   ],
   "source": [
    "#Subsampling using iarange:\n",
    "data = torch.arange(100)\n",
    "def model2():\n",
    "    mean = pyro.param('mean', torch.zeros(len(data)))\n",
    "    with pyro.iarange('mean_range', len(data), subsample_size=10) as ind:\n",
    "        batch = data[ind]\n",
    "        mean_batch = mean[ind]\n",
    "        x = pyro.sample('obs', Normal(mean_batch,1), obs=batch)\n",
    "        assert len(x) == 10\n",
    "test_model(model2, guide=lambda: None, loss=Trace_ELBO())"
   ]
  },
  {
   "cell_type": "code",
   "execution_count": 125,
   "metadata": {},
   "outputs": [
    {
     "name": "stdout",
     "output_type": "stream",
     "text": [
      "tensor([ 0.0000,  0.1667,  0.3333,  0.5000,  0.6667,  0.8333])\n"
     ]
    }
   ],
   "source": [
    "#Broadcasting to allow parallel enumeration\n",
    "p = pyro.param(\"p\", torch.arange(6) / 6)\n",
    "b = pyro.sample('b', Categorical(torch.ones(6) / 6))\n",
    "print(p)"
   ]
  },
  {
   "cell_type": "code",
   "execution_count": 133,
   "metadata": {},
   "outputs": [
    {
     "name": "stdout",
     "output_type": "stream",
     "text": [
      "tensor([-1.,  1.])\n",
      "tensor([-1.,  1.])\n"
     ]
    },
    {
     "data": {
      "text/plain": [
       "-2.4835440370907236e-09"
      ]
     },
     "execution_count": 133,
     "metadata": {},
     "output_type": "execute_result"
    }
   ],
   "source": [
    "@config_enumerate(default=\"parallel\")\n",
    "def model3():\n",
    "    p = pyro.param(\"p\", torch.arange(6) / 6)\n",
    "    locs = pyro.param(\"locs\", torch.tensor([-1., 1.]))\n",
    "    a = pyro.sample(\"a\", Categorical(torch.ones(6) / 6))\n",
    "    b = pyro.sample(\"b\", Bernoulli(p[a]))  # Note this depends on a.\n",
    "    with pyro.iarange(\"c_iarange\", 4):\n",
    "        c = pyro.sample(\"c\", Bernoulli(0.3).expand_by([4]))\n",
    "        with pyro.iarange(\"d_iarange\", 5):\n",
    "            d = pyro.sample(\"d\", Bernoulli(0.4).expand_by([5,4]))\n",
    "            e_loc = locs[d.long()].unsqueeze(-1)\n",
    "            e_scale = torch.arange(1, 8)\n",
    "            e = pyro.sample(\"e\", Normal(e_loc, e_scale)\n",
    "                            .independent(1))  # Note this depends on d.\n",
    "\n",
    "    #                   enumerated|batch|event dims\n",
    "    assert a.shape == (         6, 1, 1   )  # Six enumerated values of the Categorical.\n",
    "    assert b.shape == (      2, 6, 1, 1   )  # 2 enumerated Bernoullis x 6 Categoricals.\n",
    "    assert c.shape == (   2, 1, 1, 1, 4   )  # Only 2 Bernoullis; does not depend on a or b.\n",
    "    assert d.shape == (2, 1, 1, 1, 5, 4   )  # Only two Bernoullis.\n",
    "    assert e.shape == (2, 1, 1, 1, 5, 4, 7)  # This is sampled and depends on d.\n",
    "\n",
    "    assert e_loc.shape   == (2, 1, 1, 1, 5, 4, 1,)\n",
    "    assert e_scale.shape == (                  7,)\n",
    "\n",
    "test_model(model3, model3, TraceEnum_ELBO(max_iarange_nesting=2))"
   ]
  },
  {
   "cell_type": "code",
   "execution_count": 141,
   "metadata": {},
   "outputs": [
    {
     "name": "stderr",
     "output_type": "stream",
     "text": [
      "/Users/siamak/anaconda3/envs/pyro/lib/python3.6/site-packages/pyro/infer/trace_elbo.py:64: UserWarning: x_activeTrace_ELBO found sample sites configured for enumeration:, y_active\n",
      "If you want to enumerate sites, you need to use TraceEnum_ELBO instead.\n",
      "  'If you want to enumerate sites, you need to use TraceEnum_ELBO instead.']))\n"
     ]
    },
    {
     "data": {
      "text/plain": [
       "17.217742919921875"
      ]
     },
     "execution_count": 141,
     "metadata": {},
     "output_type": "execute_result"
    }
   ],
   "source": [
    "width = 8\n",
    "height = 10\n",
    "sparse_pixels = torch.LongTensor([[3, 2], [3, 5], [3, 9], [7, 1]])\n",
    "enumerated = None  # set to either True or False below\n",
    "\n",
    "def fun(observe):\n",
    "    p_x = pyro.param(\"p_x\", torch.tensor(0.1), constraint=constraints.unit_interval)\n",
    "    p_y = pyro.param(\"p_y\", torch.tensor(0.1), constraint=constraints.unit_interval)\n",
    "    x_axis = pyro.iarange('x_axis', width, dim=-2)\n",
    "    y_axis = pyro.iarange('y_axis', height, dim=-1)\n",
    "\n",
    "    # Note that the shapes of these sites depend on whether Pyro is enumerating.\n",
    "    with x_axis:\n",
    "        x_active = pyro.sample(\"x_active\", Bernoulli(p_x).expand_by([width, 1]))\n",
    "    with y_axis:\n",
    "        y_active = pyro.sample(\"y_active\", Bernoulli(p_y).expand_by([height]))\n",
    "    if enumerated:\n",
    "        assert x_active.shape  == (2, width, 1)\n",
    "        assert y_active.shape  == (2, 1, 1, height)\n",
    "    else:\n",
    "        assert x_active.shape  == (width, 1)\n",
    "        assert y_active.shape  == (height,)\n",
    "\n",
    "    # The first trick is to broadcast. This works with or without enumeration.\n",
    "    p = 0.1 + 0.5 * x_active * y_active\n",
    "    if enumerated:\n",
    "        assert p.shape == (2, 2, width, height)\n",
    "    else:\n",
    "        assert p.shape == (width, height)\n",
    "\n",
    "    # The second trick is to index using ellipsis slicing.\n",
    "    # This allows Pyro to add arbitrary dimensions on the left.\n",
    "    dense_pixels = torch.zeros_like(p)\n",
    "    for x, y in sparse_pixels:\n",
    "        dense_pixels[..., x, y] = 1\n",
    "    if enumerated:\n",
    "        assert dense_pixels.shape == (2, 2, width, height)\n",
    "    else:\n",
    "        assert dense_pixels.shape == (width, height)\n",
    "\n",
    "    with x_axis, y_axis:\n",
    "        if observe:\n",
    "            pyro.sample(\"pixels\", Bernoulli(p), obs=dense_pixels)\n",
    "\n",
    "def model4():\n",
    "    fun(observe=True)\n",
    "\n",
    "@config_enumerate(default=\"parallel\")\n",
    "def guide4():\n",
    "    fun(observe=False)\n",
    "\n",
    "# Test without enumeration.\n",
    "enumerated = False\n",
    "test_model(model4, guide4, Trace_ELBO())\n",
    "\n",
    "# Test with enumeration.\n",
    "enumerated = True\n",
    "test_model(model4, guide4, TraceEnum_ELBO(max_iarange_nesting=2))"
   ]
  },
  {
   "cell_type": "code",
   "execution_count": 144,
   "metadata": {},
   "outputs": [
    {
     "name": "stdout",
     "output_type": "stream",
     "text": [
      "1776.2379150390625\n",
      "1776.2379150390625\n",
      "1776.2379150390625\n"
     ]
    }
   ],
   "source": [
    "#Automatic broadcasting via broadcast poutine\n",
    "num_particles = 100  # Number of samples for the ELBO estimator\n",
    "width = 8\n",
    "height = 10\n",
    "sparse_pixels = torch.LongTensor([[3, 2], [3, 5], [3, 9], [7, 1]])\n",
    "\n",
    "def sample_pixel_locations_no_broadcasting(p_x, p_y, x_axis, y_axis):\n",
    "    with x_axis:\n",
    "        x_active = pyro.sample(\"x_active\", Bernoulli(p_x).expand_by([num_particles, width, 1]))\n",
    "    with y_axis:\n",
    "        y_active = pyro.sample(\"y_active\", Bernoulli(p_y).expand_by([num_particles, 1, height]))\n",
    "    return x_active, y_active\n",
    "\n",
    "def sample_pixel_locations_automatic_broadcasting(p_x, p_y, x_axis, y_axis):\n",
    "    with x_axis:\n",
    "        x_active = pyro.sample(\"x_active\", Bernoulli(p_x))\n",
    "    with y_axis:\n",
    "        y_active = pyro.sample(\"y_active\", Bernoulli(p_y))\n",
    "    return x_active, y_active\n",
    "\n",
    "def sample_pixel_locations_partial_broadcasting(p_x, p_y, x_axis, y_axis):\n",
    "    with x_axis:\n",
    "        x_active = pyro.sample(\"x_active\", Bernoulli(p_x).expand_by([width, 1]))\n",
    "    with y_axis:\n",
    "        y_active = pyro.sample(\"y_active\", Bernoulli(p_y).expand_by([height]))\n",
    "    return x_active, y_active\n",
    "\n",
    "def fun(observe, sample_fn):\n",
    "    p_x = pyro.param(\"p_x\", torch.tensor(0.1), constraint=constraints.unit_interval)\n",
    "    p_y = pyro.param(\"p_y\", torch.tensor(0.1), constraint=constraints.unit_interval)\n",
    "    x_axis = pyro.iarange('x_axis', width, dim=-2)\n",
    "    y_axis = pyro.iarange('y_axis', height, dim=-1)\n",
    "\n",
    "    with pyro.iarange(\"num_particles\", 100, dim=-3):\n",
    "        x_active, y_active = sample_fn(p_x, p_y, x_axis, y_axis)\n",
    "        # Indices corresponding to \"parallel\" enumeration are appended\n",
    "        # to the left of the \"num_particles\" iarange dim.\n",
    "        assert x_active.shape  == (2, num_particles, width, 1)\n",
    "        assert y_active.shape  == (2, 1, num_particles, 1, height)\n",
    "        p = 0.1 + 0.5 * x_active * y_active\n",
    "        assert p.shape == (2, 2, num_particles, width, height)\n",
    "\n",
    "        dense_pixels = torch.zeros_like(p)\n",
    "        for x, y in sparse_pixels:\n",
    "            dense_pixels[..., x, y] = 1\n",
    "        assert dense_pixels.shape == (2, 2, num_particles, width, height)\n",
    "\n",
    "        with x_axis, y_axis:\n",
    "            if observe:\n",
    "                pyro.sample(\"pixels\", Bernoulli(p), obs=dense_pixels)\n",
    "\n",
    "def test_model_with_sample_fn(sample_fn, broadcast=False):\n",
    "    def model():\n",
    "        fun(observe=True, sample_fn=sample_fn)\n",
    "\n",
    "    @config_enumerate(default=\"parallel\")\n",
    "    def guide():\n",
    "        fun(observe=False, sample_fn=sample_fn)\n",
    "\n",
    "    if broadcast:\n",
    "        model = poutine.broadcast(model)\n",
    "        guide = poutine.broadcast(guide)\n",
    "    print(test_model(model, guide, TraceEnum_ELBO(max_iarange_nesting=3)))\n",
    "\n",
    "test_model_with_sample_fn(sample_pixel_locations_no_broadcasting)\n",
    "test_model_with_sample_fn(sample_pixel_locations_automatic_broadcasting, broadcast=True)\n",
    "test_model_with_sample_fn(sample_pixel_locations_partial_broadcasting, broadcast=True)"
   ]
  },
  {
   "cell_type": "code",
   "execution_count": null,
   "metadata": {},
   "outputs": [],
   "source": []
  }
 ],
 "metadata": {
  "kernelspec": {
   "display_name": "pyro",
   "language": "python",
   "name": "pyro"
  },
  "language_info": {
   "codemirror_mode": {
    "name": "ipython",
    "version": 3
   },
   "file_extension": ".py",
   "mimetype": "text/x-python",
   "name": "python",
   "nbconvert_exporter": "python",
   "pygments_lexer": "ipython3",
   "version": "3.6.6"
  }
 },
 "nbformat": 4,
 "nbformat_minor": 2
}
